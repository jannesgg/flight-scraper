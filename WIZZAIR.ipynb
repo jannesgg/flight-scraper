{
 "cells": [
  {
   "cell_type": "code",
   "execution_count": 62,
   "metadata": {},
   "outputs": [],
   "source": []
  },
  {
   "cell_type": "code",
   "execution_count": 358,
   "metadata": {},
   "outputs": [],
   "source": [
    "from selenium import webdriver\n",
    "from selenium.webdriver.common.keys import Keys\n",
    "import time\n",
    " \n",
    "driver = webdriver.Chrome('/usr/local/bin/chromedriver')\n",
    "driver.get('https://wizzair.com/en-gb/flights/timetable#/')\n",
    " \n",
    "# click radio button\n",
    "#python_button = driver.find_elements_by_xpath(\"//*[@id=\"search-departure-station\"]\")[0]\n",
    "#python_button.click()\n",
    "\n",
    "\n",
    "# type text\n",
    "text_area = driver.find_element_by_xpath('//*[@id=\"search-departure-station\"]')\n",
    "#text_area.send_keys('Gothenburg Landvetter')\n",
    "#text_area.send_keys(Keys.TAB);\n",
    "\n",
    "element = driver.find_elements_by_class_name('locations-container__location__name')\n",
    "#element = driver.find_elements_by_xpath('//*[@id=\"flight-search\"]/div/div/div[3]/form/div[1]/fieldset/div[3]/div/div[3]/div[4]/label/strong')\n",
    "destinations = [i.get_attribute('innerHTML').replace('\\n','') for i in element]\n",
    "\n",
    "text_area2 = driver.find_element_by_xpath('//*[@id=\"search-arrival-station\"]')\n",
    "#text_area2.send_keys('Skopje')\n",
    "#text_area2.send_keys(Keys.TAB);\n",
    "\n",
    "pass_box = driver.find_element_by_xpath('//*[@id=\"search-passenger\"]')\n",
    "pass_box.send_keys(Keys.TAB);\n",
    "\n",
    "#for i in destinations:\n",
    "    \n",
    "    \n",
    "    #\"//button[@data-test='flight-search-submit']\"\n",
    "\n",
    " \n",
    "# click submit button\n",
    "submit_button = driver.find_element_by_xpath(\"//button[@tabindex='2']\")\n",
    "#print(submit_button)\n",
    "submit_button.send_keys(Keys.SPACE)"
   ]
  },
  {
   "cell_type": "code",
   "execution_count": 345,
   "metadata": {},
   "outputs": [],
   "source": [
    "def where_can_i_fly(fr):\n",
    "    driver = webdriver.Chrome('/usr/local/bin/chromedriver')\n",
    "    driver.get('https://wizzair.com/en-gb/flights/timetable#/')\n",
    "    driver.implicitly_wait(10)\n",
    "    text_area = driver.find_element_by_xpath('//*[@id=\"search-departure-station\"]')\n",
    "    text_area.send_keys(fr)\n",
    "    text_area.send_keys(Keys.TAB)\n",
    "    element = driver.find_elements_by_class_name('locations-container__location__name')\n",
    "    return [i.get_attribute('innerHTML').replace('\\n','') for i in element]"
   ]
  },
  {
   "cell_type": "code",
   "execution_count": 359,
   "metadata": {},
   "outputs": [
    {
     "data": {
      "text/plain": [
       "['Tirana',\n",
       " 'Vienna',\n",
       " 'Baku',\n",
       " 'Brussels Charleroi',\n",
       " 'Sarajevo',\n",
       " 'Tuzla',\n",
       " 'Bourgas (Black Sea)',\n",
       " 'Sofia',\n",
       " 'Varna (Black Sea)',\n",
       " 'Osijek',\n",
       " 'Split',\n",
       " 'Larnaca',\n",
       " 'Prague',\n",
       " 'Billund',\n",
       " 'Copenhagen',\n",
       " 'Tallinn',\n",
       " 'Turku',\n",
       " 'Basel-Mulhouse-Freiburg',\n",
       " 'Bordeaux (Mérignac Airport)',\n",
       " 'Grenoble',\n",
       " 'Lyon -Saint-Exupéry',\n",
       " 'Nice',\n",
       " 'Paris Beauvais',\n",
       " 'Kutaisi',\n",
       " 'Berlin Schoenefeld',\n",
       " 'Cologne',\n",
       " 'Dortmund',\n",
       " 'Frankfurt',\n",
       " 'Frankfurt Hahn',\n",
       " 'Friedrichshafen',\n",
       " 'Hamburg',\n",
       " 'Hanover',\n",
       " 'Karlsruhe/Baden-Baden',\n",
       " 'Memmingen/Munich West',\n",
       " 'Nuremberg ',\n",
       " 'Athens',\n",
       " 'Corfu',\n",
       " 'Heraklion (Crete)',\n",
       " 'Rhodes',\n",
       " 'Thessaloniki',\n",
       " 'Zakynthos',\n",
       " 'Budapest',\n",
       " 'Debrecen',\n",
       " 'Reykjavik',\n",
       " 'Eilat (Ovda)',\n",
       " 'Tel-Aviv',\n",
       " 'Alghero (Sardinia)',\n",
       " 'Bari',\n",
       " 'Bologna',\n",
       " 'Catania (Sicily)',\n",
       " 'Lamezia Terme',\n",
       " 'Milan Bergamo',\n",
       " 'Milan Malpensa',\n",
       " 'Naples',\n",
       " 'Pescara',\n",
       " 'Pisa (Tuscany)',\n",
       " 'Rome Ciampino',\n",
       " 'Rome Fiumicino',\n",
       " 'Turin',\n",
       " 'Venice Treviso',\n",
       " 'Verona',\n",
       " 'Astana',\n",
       " 'Prishtina',\n",
       " 'Riga',\n",
       " 'Kaunas',\n",
       " 'Palanga – Klaipeda ',\n",
       " 'Vilnius',\n",
       " 'Ohrid',\n",
       " 'Skopje',\n",
       " 'Malta',\n",
       " 'Chisinau',\n",
       " 'Podgorica',\n",
       " 'Agadir',\n",
       " 'Marrakesh',\n",
       " 'Eindhoven',\n",
       " 'Alesund',\n",
       " 'Bergen',\n",
       " 'Haugesund',\n",
       " 'Kristiansand',\n",
       " 'Oslo Sandefjord Torp',\n",
       " 'Stavanger',\n",
       " 'Tromso',\n",
       " 'Trondheim',\n",
       " 'Gdansk',\n",
       " 'Katowice',\n",
       " 'Lublin',\n",
       " 'Olsztyn-Mazury',\n",
       " 'Poznan',\n",
       " 'Szczecin',\n",
       " 'Warsaw Chopin',\n",
       " 'Wroclaw',\n",
       " 'Faro',\n",
       " 'Lisbon',\n",
       " 'Porto',\n",
       " 'Bucharest ',\n",
       " 'Cluj-Napoca',\n",
       " 'Constanta',\n",
       " 'Craiova',\n",
       " 'Iasi',\n",
       " 'Satu Mare',\n",
       " 'Sibiu',\n",
       " 'Suceava',\n",
       " 'Timisoara',\n",
       " 'Tirgu Mures',\n",
       " 'Moscow',\n",
       " 'St Petersburg',\n",
       " 'Belgrade',\n",
       " 'Niš',\n",
       " 'Bratislava',\n",
       " 'Kosice',\n",
       " 'Poprad-Tatry',\n",
       " 'Ljubljana',\n",
       " 'Alicante',\n",
       " 'Barcelona El Prat',\n",
       " 'Fuerteventura (Canary Islands)',\n",
       " 'Ibiza',\n",
       " 'Madrid',\n",
       " 'Malaga',\n",
       " 'Palma de Mallorca',\n",
       " 'Santander',\n",
       " 'Tenerife (Canary Islands)',\n",
       " 'Valencia',\n",
       " 'Zaragoza',\n",
       " 'Gothenburg Landvetter',\n",
       " 'Malmo',\n",
       " 'Stockholm Skavsta',\n",
       " 'Vaxjo',\n",
       " 'Basel-Mulhouse-Freiburg',\n",
       " 'Geneva',\n",
       " 'Kharkiv',\n",
       " 'Kiev - Zhulyany',\n",
       " 'Lviv',\n",
       " 'Dubai',\n",
       " 'Aberdeen',\n",
       " 'Belfast',\n",
       " 'Birmingham',\n",
       " 'Bristol',\n",
       " 'Doncaster/Sheffield',\n",
       " 'Glasgow',\n",
       " 'Liverpool',\n",
       " 'London Gatwick',\n",
       " 'London Luton']"
      ]
     },
     "execution_count": 359,
     "metadata": {},
     "output_type": "execute_result"
    }
   ],
   "source": [
    "destinations"
   ]
  },
  {
   "cell_type": "code",
   "execution_count": 350,
   "metadata": {},
   "outputs": [
    {
     "data": {
      "text/plain": [
       "['Kutaisi',\n",
       " 'Dortmund',\n",
       " 'Reykjavik',\n",
       " 'Bari',\n",
       " 'Agadir',\n",
       " 'Eindhoven',\n",
       " 'Oslo Sandefjord Torp',\n",
       " 'Porto',\n",
       " 'Gothenburg Landvetter',\n",
       " 'Stockholm Skavsta',\n",
       " 'Basel-Mulhouse-Freiburg',\n",
       " 'Kiev - Zhulyany',\n",
       " 'Lviv',\n",
       " 'Birmingham',\n",
       " 'Doncaster/Sheffield',\n",
       " 'London Luton']"
      ]
     },
     "execution_count": 350,
     "metadata": {},
     "output_type": "execute_result"
    }
   ],
   "source": [
    "where_can_i_fly('wroclaw')"
   ]
  },
  {
   "cell_type": "code",
   "execution_count": 360,
   "metadata": {},
   "outputs": [],
   "source": [
    "a = input('FROM: ')\n",
    "b = input('TO: ')\n",
    "month = input('MONTH_OUT: ')\n",
    "month_end = input('MONTH_IN: ')\n",
    "\n",
    "driver = webdriver.Chrome('/usr/local/bin/chromedriver')\n",
    "driver.get('https://wizzair.com/en-gb/flights/timetable/{:s}/{:s}#/1/0/1/0/0/{:s}/{:s}'.format(a, b, month, month_end))\n",
    "\n",
    "driver.implicitly_wait(10)\n",
    "#fare-finder__calendar__days__day__container\n",
    "no_flight = driver.find_elements_by_class_name('fare-finder__calendar__days__day__date--disabled')\n",
    "prices = driver.find_elements_by_class_name('fare-finder__calendar__days__day__label--price-tiny')\n",
    "days = driver.find_elements_by_class_name('fare-finder__calendar__days__day__date')\n",
    "\n",
    "p = [i.get_attribute('innerHTML') for i in prices]\n",
    "d = [i.get_attribute('innerHTML') for i in days]\n",
    "n = [i.get_attribute('innerHTML') for i in no_flight]"
   ]
  },
  {
   "cell_type": "code",
   "execution_count": 361,
   "metadata": {},
   "outputs": [
    {
     "data": {
      "text/plain": [
       "[]"
      ]
     },
     "execution_count": 361,
     "metadata": {},
     "output_type": "execute_result"
    }
   ],
   "source": [
    "d"
   ]
  },
  {
   "cell_type": "code",
   "execution_count": 355,
   "metadata": {},
   "outputs": [],
   "source": [
    "split_index_d = [j for j in range(1,len(d)) if int(d[j])-int(d[j-1])>1]"
   ]
  },
  {
   "cell_type": "code",
   "execution_count": 316,
   "metadata": {},
   "outputs": [],
   "source": [
    "split_index_n = [j+4 for j in range(1,len(n)) if int(n[j])-int(n[j-1])>1][0]"
   ]
  },
  {
   "cell_type": "code",
   "execution_count": 317,
   "metadata": {},
   "outputs": [],
   "source": [
    "#two calendars"
   ]
  },
  {
   "cell_type": "code",
   "execution_count": 318,
   "metadata": {},
   "outputs": [],
   "source": [
    "first_leg = [i for i in d[:int(split_index_d)]]\n",
    "second_leg = [i for i in d[int(split_index_d):]]"
   ]
  },
  {
   "cell_type": "code",
   "execution_count": 319,
   "metadata": {},
   "outputs": [],
   "source": [
    "n_first_leg = [i for i in n[:int(split_index_n)]]\n",
    "n_second_leg = [i for i in n[int(split_index_n):]]"
   ]
  },
  {
   "cell_type": "code",
   "execution_count": 320,
   "metadata": {},
   "outputs": [],
   "source": [
    "#actual flight days"
   ]
  },
  {
   "cell_type": "code",
   "execution_count": 321,
   "metadata": {},
   "outputs": [
    {
     "data": {
      "text/plain": [
       "' 27 '"
      ]
     },
     "execution_count": 321,
     "metadata": {},
     "output_type": "execute_result"
    }
   ],
   "source": [
    "n[split_index_n]"
   ]
  },
  {
   "cell_type": "code",
   "execution_count": 324,
   "metadata": {},
   "outputs": [],
   "source": [
    "outbound = [i for i in first_leg if i not in n_first_leg]\n",
    "inbound = [i for i in second_leg if i not in n_second_leg]"
   ]
  },
  {
   "cell_type": "code",
   "execution_count": 325,
   "metadata": {},
   "outputs": [],
   "source": [
    "from collections import Counter"
   ]
  },
  {
   "cell_type": "code",
   "execution_count": 326,
   "metadata": {},
   "outputs": [],
   "source": [
    "outb = sorted([int(i) for i in list((Counter(first_leg)-Counter(n_first_leg)).keys())])"
   ]
  },
  {
   "cell_type": "code",
   "execution_count": 327,
   "metadata": {},
   "outputs": [],
   "source": [
    "inb = sorted([int(i) for i in list((Counter(second_leg)-Counter(n_second_leg)).keys())])"
   ]
  },
  {
   "cell_type": "code",
   "execution_count": 328,
   "metadata": {},
   "outputs": [],
   "source": [
    "outbound_flights = [(i,j.replace('<br>','')) for i,j in zip(outb, p[:len(outb)])]"
   ]
  },
  {
   "cell_type": "code",
   "execution_count": 329,
   "metadata": {},
   "outputs": [
    {
     "data": {
      "text/plain": [
       "[(25, ' 429SEK '), (27, ' 429SEK '), (29, ' 479SEK ')]"
      ]
     },
     "execution_count": 329,
     "metadata": {},
     "output_type": "execute_result"
    }
   ],
   "source": [
    "outbound_flights"
   ]
  },
  {
   "cell_type": "code",
   "execution_count": 330,
   "metadata": {},
   "outputs": [],
   "source": [
    "inbound_flights = [(i,j.replace('<br>','')) for i,j in zip(inb, p[len(outb):])]"
   ]
  },
  {
   "cell_type": "code",
   "execution_count": 331,
   "metadata": {},
   "outputs": [
    {
     "data": {
      "text/plain": [
       "[(2, ' 969SEK '),\n",
       " (3, ' 369SEK '),\n",
       " (5, ' 589SEK '),\n",
       " (7, ' 104SEK '),\n",
       " (9, ' 969SEK '),\n",
       " (10, ' 369SEK '),\n",
       " (12, ' 104SEK '),\n",
       " (14, ' 219SEK '),\n",
       " (16, ' 1819SEK '),\n",
       " (17, ' 1289SEK '),\n",
       " (19, ' 159SEK '),\n",
       " (21, ' 129SEK '),\n",
       " (23, ' 1179SEK '),\n",
       " (24, ' 749SEK '),\n",
       " (26, ' 369SEK '),\n",
       " (28, ' 104SEK '),\n",
       " (30, ' 1289SEK ')]"
      ]
     },
     "execution_count": 331,
     "metadata": {},
     "output_type": "execute_result"
    }
   ],
   "source": [
    "inbound_flights"
   ]
  },
  {
   "cell_type": "code",
   "execution_count": null,
   "metadata": {},
   "outputs": [],
   "source": []
  }
 ],
 "metadata": {
  "kernelspec": {
   "display_name": "Python 3",
   "language": "python",
   "name": "python3"
  },
  "language_info": {
   "codemirror_mode": {
    "name": "ipython",
    "version": 3
   },
   "file_extension": ".py",
   "mimetype": "text/x-python",
   "name": "python",
   "nbconvert_exporter": "python",
   "pygments_lexer": "ipython3",
   "version": "3.6.3"
  }
 },
 "nbformat": 4,
 "nbformat_minor": 2
}
